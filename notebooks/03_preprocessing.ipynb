{
 "cells": [
  {
   "cell_type": "markdown",
   "id": "c0ea7895-9caa-43fc-b153-c29f7218b90b",
   "metadata": {},
   "source": [
    "# Feature engineering\n",
    "\n",
    "Procedemos a realizar la creación de nuevas variables que faciliten nuestro análisis"
   ]
  },
  {
   "cell_type": "code",
   "execution_count": 34,
   "id": "b531edb9-995e-4910-a294-15fd94345021",
   "metadata": {},
   "outputs": [],
   "source": [
    "import numpy as np\n",
    "import pandas as pd\n",
    "import yaml\n",
    "from sklearn.preprocessing import MinMaxScaler\n",
    "from sklearn.decomposition import PCA"
   ]
  },
  {
   "cell_type": "code",
   "execution_count": 35,
   "id": "be63a3f5-500a-4e9e-8396-e59258d06aec",
   "metadata": {},
   "outputs": [
    {
     "name": "stdout",
     "output_type": "stream",
     "text": [
      "Stored 'df' (DataFrame)\n"
     ]
    }
   ],
   "source": [
    "%store df"
   ]
  },
  {
   "cell_type": "code",
   "execution_count": 40,
   "id": "78465460-846e-477b-9c1b-687db6e3d010",
   "metadata": {},
   "outputs": [],
   "source": [
    "# Columnas numéricas y categóricas\n",
    "numerical_cols = [\"Transportation expense\", \"Distance from Residence to Work\", \"Service time\",\n",
    "                  \"Age\", \"Work load Average/day\", \"Hit target\", \"Son\", \"Pet\",\n",
    "                  \"Weight\", \"Height\", \"Body mass index\"]\n",
    "\n",
    "nominal_vars = [\"Disciplinary failure\", \"Social drinker\", \"Social smoker\", \"Reason for absence\"]"
   ]
  },
  {
   "cell_type": "code",
   "execution_count": 37,
   "id": "7f0d3f58-1296-425d-97f7-312541b58538",
   "metadata": {},
   "outputs": [],
   "source": [
    "# --- Log-transform y normalización ---\n",
    "df[numerical_cols] = df[numerical_cols].apply(lambda x: np.log1p(x))"
   ]
  },
  {
   "cell_type": "markdown",
   "id": "1448433a-c181-4c64-86ec-35751613021c",
   "metadata": {},
   "source": [
    "Debido a que los rangos de cada variable varía mucho, podemos normalizar las variables con un MixMaxScaler"
   ]
  },
  {
   "cell_type": "code",
   "execution_count": 41,
   "id": "62fa23bb-fbf2-479b-983d-c2e5a19c82ef",
   "metadata": {},
   "outputs": [
    {
     "data": {
      "text/plain": [
       "Index(['Reason for absence', 'Month of absence', 'Day of the week', 'Seasons',\n",
       "       'Transportation expense', 'Distance from Residence to Work',\n",
       "       'Service time', 'Age', 'Work load Average/day', 'Hit target',\n",
       "       'Disciplinary failure', 'Education', 'Son', 'Social drinker',\n",
       "       'Social smoker', 'Pet', 'Weight', 'Height', 'Body mass index',\n",
       "       'Absenteeism time in hours'],\n",
       "      dtype='object')"
      ]
     },
     "execution_count": 41,
     "metadata": {},
     "output_type": "execute_result"
    }
   ],
   "source": [
    "df.columns"
   ]
  },
  {
   "cell_type": "code",
   "execution_count": 42,
   "id": "323c080a-c332-49a7-84c7-a048e5aa16d7",
   "metadata": {},
   "outputs": [],
   "source": [
    "from sklearn.preprocessing import MinMaxScaler\n",
    "\n",
    "scaler = MinMaxScaler()\n",
    "df[nominal_vars] = scaler.fit_transform(df[nominal_vars])"
   ]
  },
  {
   "cell_type": "code",
   "execution_count": 48,
   "id": "8be51a5c-5a17-42a8-960c-2e34d45e66e6",
   "metadata": {},
   "outputs": [],
   "source": [
    "# Analisis de PCA\n",
    "n_components = 5\n",
    "pca = PCA(n_components=n_components)\n",
    "df_pca = pca.fit_transform(df[numerical_cols])\n",
    "df_pca = pd.DataFrame(df_pca, columns=[f\"PCA_{i+1}\" for i in range(n_components)])"
   ]
  },
  {
   "cell_type": "code",
   "execution_count": 45,
   "id": "ca441522-47e7-4938-a512-da8120d7622d",
   "metadata": {},
   "outputs": [],
   "source": [
    "df_cat = pd.get_dummies(df[nominal_vars], drop_first=True)"
   ]
  },
  {
   "cell_type": "code",
   "execution_count": 49,
   "id": "cde82d5e-b509-46fa-beb0-7182b3363411",
   "metadata": {},
   "outputs": [],
   "source": [
    "df_final = pd.concat([df_pca, df_cat], axis=1)"
   ]
  },
  {
   "cell_type": "code",
   "execution_count": 51,
   "id": "f2075fa1-b049-4358-8614-6b28b3d503e7",
   "metadata": {},
   "outputs": [
    {
     "name": "stdout",
     "output_type": "stream",
     "text": [
      "Tamaño final del dataset: (640, 9)\n"
     ]
    }
   ],
   "source": [
    "print(f\"Tamaño final del dataset: {df_final.shape}\")"
   ]
  },
  {
   "cell_type": "code",
   "execution_count": 52,
   "id": "83e4e431-aaa8-4f4c-8b22-25553e62638c",
   "metadata": {},
   "outputs": [
    {
     "data": {
      "text/html": [
       "<div>\n",
       "<style scoped>\n",
       "    .dataframe tbody tr th:only-of-type {\n",
       "        vertical-align: middle;\n",
       "    }\n",
       "\n",
       "    .dataframe tbody tr th {\n",
       "        vertical-align: top;\n",
       "    }\n",
       "\n",
       "    .dataframe thead th {\n",
       "        text-align: right;\n",
       "    }\n",
       "</style>\n",
       "<table border=\"1\" class=\"dataframe\">\n",
       "  <thead>\n",
       "    <tr style=\"text-align: right;\">\n",
       "      <th></th>\n",
       "      <th>PCA_1</th>\n",
       "      <th>PCA_2</th>\n",
       "      <th>PCA_3</th>\n",
       "      <th>PCA_4</th>\n",
       "      <th>PCA_5</th>\n",
       "      <th>Disciplinary failure</th>\n",
       "      <th>Social drinker</th>\n",
       "      <th>Social smoker</th>\n",
       "      <th>Reason for absence</th>\n",
       "    </tr>\n",
       "  </thead>\n",
       "  <tbody>\n",
       "    <tr>\n",
       "      <th>0</th>\n",
       "      <td>0.701905</td>\n",
       "      <td>0.238156</td>\n",
       "      <td>0.106666</td>\n",
       "      <td>0.198289</td>\n",
       "      <td>0.005003</td>\n",
       "      <td>0.0</td>\n",
       "      <td>1.0</td>\n",
       "      <td>0.0</td>\n",
       "      <td>0.6</td>\n",
       "    </tr>\n",
       "    <tr>\n",
       "      <th>1</th>\n",
       "      <td>-0.678658</td>\n",
       "      <td>0.692940</td>\n",
       "      <td>0.059647</td>\n",
       "      <td>0.227598</td>\n",
       "      <td>-0.029405</td>\n",
       "      <td>NaN</td>\n",
       "      <td>NaN</td>\n",
       "      <td>NaN</td>\n",
       "      <td>NaN</td>\n",
       "    </tr>\n",
       "    <tr>\n",
       "      <th>2</th>\n",
       "      <td>0.283119</td>\n",
       "      <td>-1.345145</td>\n",
       "      <td>-0.923848</td>\n",
       "      <td>0.093353</td>\n",
       "      <td>0.379992</td>\n",
       "      <td>0.0</td>\n",
       "      <td>1.0</td>\n",
       "      <td>0.0</td>\n",
       "      <td>0.6</td>\n",
       "    </tr>\n",
       "    <tr>\n",
       "      <th>3</th>\n",
       "      <td>0.701905</td>\n",
       "      <td>0.238156</td>\n",
       "      <td>0.106666</td>\n",
       "      <td>0.198289</td>\n",
       "      <td>0.005003</td>\n",
       "      <td>0.0</td>\n",
       "      <td>1.0</td>\n",
       "      <td>1.0</td>\n",
       "      <td>0.3</td>\n",
       "    </tr>\n",
       "    <tr>\n",
       "      <th>4</th>\n",
       "      <td>-0.678658</td>\n",
       "      <td>0.692940</td>\n",
       "      <td>0.059647</td>\n",
       "      <td>0.227598</td>\n",
       "      <td>-0.029405</td>\n",
       "      <td>0.0</td>\n",
       "      <td>1.0</td>\n",
       "      <td>0.0</td>\n",
       "      <td>0.6</td>\n",
       "    </tr>\n",
       "  </tbody>\n",
       "</table>\n",
       "</div>"
      ],
      "text/plain": [
       "      PCA_1     PCA_2     PCA_3     PCA_4     PCA_5  Disciplinary failure  \\\n",
       "0  0.701905  0.238156  0.106666  0.198289  0.005003                   0.0   \n",
       "1 -0.678658  0.692940  0.059647  0.227598 -0.029405                   NaN   \n",
       "2  0.283119 -1.345145 -0.923848  0.093353  0.379992                   0.0   \n",
       "3  0.701905  0.238156  0.106666  0.198289  0.005003                   0.0   \n",
       "4 -0.678658  0.692940  0.059647  0.227598 -0.029405                   0.0   \n",
       "\n",
       "   Social drinker  Social smoker  Reason for absence  \n",
       "0             1.0            0.0                 0.6  \n",
       "1             NaN            NaN                 NaN  \n",
       "2             1.0            0.0                 0.6  \n",
       "3             1.0            1.0                 0.3  \n",
       "4             1.0            0.0                 0.6  "
      ]
     },
     "execution_count": 52,
     "metadata": {},
     "output_type": "execute_result"
    }
   ],
   "source": [
    "df_final.head()"
   ]
  }
 ],
 "metadata": {
  "kernelspec": {
   "display_name": "Python 3 (mlops)",
   "language": "python",
   "name": "python3"
  },
  "language_info": {
   "codemirror_mode": {
    "name": "ipython",
    "version": 3
   },
   "file_extension": ".py",
   "mimetype": "text/x-python",
   "name": "python",
   "nbconvert_exporter": "python",
   "pygments_lexer": "ipython3",
   "version": "3.10.12"
  }
 },
 "nbformat": 4,
 "nbformat_minor": 5
}
